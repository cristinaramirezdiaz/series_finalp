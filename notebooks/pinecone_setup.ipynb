{
 "cells": [
  {
   "cell_type": "code",
   "execution_count": 6,
   "metadata": {},
   "outputs": [],
   "source": [
    "import os\n",
    "from pinecone import Pinecone, ServerlessSpec\n",
    "# Crea una instancia de Pinecone\n",
    "pc = Pinecone(api_key = \"2c3b8e05-b4f8-4c38-82f1-6e41ac7fbcd1\")\n",
    "# Crear un índice llamado 'books'\n",
    "if 'series' not in pc.list_indexes().names():\n",
    "    pc.create_index(\n",
    "        name='series',\n",
    "        dimension=384,  # Usar 768 como dimensión de ejemplo para embeddings\n",
    "        metric='euclidean',  # Puedes cambiar esto si lo necesitas\n",
    "        spec=ServerlessSpec(\n",
    "            cloud='aws',  # Cambia según tus necesidades\n",
    "            region='us-east-1'  # Cambia según tus necesidades\n",
    "        )\n",
    "    )\n",
    "\n",
    "\n",
    "# Conectar al índice\n",
    "index = pc.Index('series')"
   ]
  },
  {
   "cell_type": "code",
   "execution_count": 7,
   "metadata": {},
   "outputs": [
    {
     "name": "stdout",
     "output_type": "stream",
     "text": [
      "Dimensión del embedding: 384\n"
     ]
    }
   ],
   "source": [
    "from sentence_transformers import SentenceTransformer\n",
    "\n",
    "# Cargar el modelo\n",
    "model = SentenceTransformer('all-MiniLM-L6-v2')  # Ejemplo con un modelo\n",
    "\n",
    "# Generar embeddings para algunas muestras de texto\n",
    "embeddings = model.encode([\"Ejemplo de texto para verificar la dimensión\"])\n",
    "\n",
    "# Imprimir la forma del array de embeddings\n",
    "print(f\"Dimensión del embedding: {embeddings.shape[1]}\")\n"
   ]
  }
 ],
 "metadata": {
  "kernelspec": {
   "display_name": "env_finalp",
   "language": "python",
   "name": "python3"
  },
  "language_info": {
   "codemirror_mode": {
    "name": "ipython",
    "version": 3
   },
   "file_extension": ".py",
   "mimetype": "text/x-python",
   "name": "python",
   "nbconvert_exporter": "python",
   "pygments_lexer": "ipython3",
   "version": "3.11.10"
  }
 },
 "nbformat": 4,
 "nbformat_minor": 2
}
