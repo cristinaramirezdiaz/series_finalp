{
 "cells": [
  {
   "cell_type": "markdown",
   "metadata": {},
   "source": [
    "## Carga de Datos y Generación de Embeddings\n",
    "\n",
    "En este notebook, se lleva a cabo la carga de un conjunto de datos y la generación de embeddings utilizando un modelo preentrenado de `SentenceTransformers`. Estos embeddings se almacenan en un índice de Pinecone, lo que permite una búsqueda y recuperación eficiente. A continuación, se describen las operaciones realizadas:\n",
    "\n",
    "1. **Importación de Librerías**:\n",
    "   - Se importan las bibliotecas necesarias:\n",
    "     - `pandas` para la manipulación de datos.\n",
    "     - `SentenceTransformer` de la biblioteca `sentence_transformers` para generar embeddings a partir de texto.\n",
    "     - `Pinecone` para interactuar con el servicio de Pinecone.\n",
    "     - `os` y `dotenv` para manejar variables de entorno y cargar la configuración necesaria.\n",
    "\n",
    "2. **Carga de Variables de Entorno**:\n",
    "   - Se utiliza `load_dotenv()` para cargar las variables de entorno definidas en un archivo `.env`, permitiendo acceder a credenciales sensibles, como la clave API de Pinecone.\n",
    "\n",
    "3. **Carga del DataFrame**:\n",
    "   - Se carga un archivo CSV llamado **'series.csv'** utilizando `pd.read_csv()`. Este DataFrame contiene los datos de las series que se utilizarán para generar los embeddings.\n",
    "\n",
    "4. **Creación de una Instancia de Pinecone**:\n",
    "   - Se obtiene la clave API utilizando `os.getenv(\"key\")`, que autentica la conexión con el servicio de Pinecone.\n",
    "   - Se crea una instancia de `Pinecone` usando la clave API, y se conecta al índice **'series'** para poder insertar los embeddings generados.\n",
    "\n",
    "5. **Carga del Modelo de Embeddings**:\n",
    "   - Se carga un modelo de embeddings llamado **'all-MiniLM-L6-v2'** de `SentenceTransformers`, que es un modelo ligero y eficiente para la generación de embeddings a partir de texto.\n",
    "\n",
    "6. **Generación de Embeddings**:\n",
    "   - Los embeddings se generan a partir de la columna **'embedding'** del DataFrame utilizando el modelo cargado. Los embeddings se convierten en una lista mediante `tolist()`.\n",
    "\n",
    "7. **Inserción de Embeddings en Pinecone**:\n",
    "   - Se itera sobre los embeddings generados, y cada embedding se inserta en Pinecone utilizando el método `upsert()`. Aquí, se almacena cada vector junto con su **IMDb ID** correspondiente, lo que permite una recuperación fácil y efectiva de los datos en el futuro.\n",
    "\n",
    "8. **Confirmación de Carga**:\n",
    "   - Finalmente, se imprime un mensaje de confirmación indicando que los vectores han sido cargados en Pinecone, lo que señala el éxito de la operación.\n",
    "\n",
    "Este proceso es fundamental para habilitar un sistema de búsqueda eficiente y escalable, facilitando la recuperación de información basada en el contenido de las series.\n"
   ]
  },
  {
   "cell_type": "code",
   "execution_count": 1,
   "metadata": {},
   "outputs": [
    {
     "name": "stderr",
     "output_type": "stream",
     "text": [
      "/opt/anaconda3/envs/env_finalp/lib/python3.11/site-packages/sentence_transformers/cross_encoder/CrossEncoder.py:13: TqdmExperimentalWarning: Using `tqdm.autonotebook.tqdm` in notebook mode. Use `tqdm.tqdm` instead to force console mode (e.g. in jupyter console)\n",
      "  from tqdm.autonotebook import tqdm, trange\n"
     ]
    },
    {
     "name": "stdout",
     "output_type": "stream",
     "text": [
      "Vectores cargados en Pinecone.\n"
     ]
    }
   ],
   "source": [
    "import pandas as pd\n",
    "from sentence_transformers import SentenceTransformer\n",
    "from pinecone import Pinecone\n",
    "import os\n",
    "from dotenv import load_dotenv, find_dotenv\n",
    "\n",
    "load_dotenv()\n",
    "# Crea una instancia de Pinecone\n",
    "API_key = os.getenv(\"key\")\n",
    "\n",
    "\n",
    "# Cargar el DataFrame\n",
    "df = pd.read_csv(\"../data/clean_data/series.csv\") \n",
    "# Crea una instancia de Pinecone\n",
    "pc = Pinecone(api_key= API_key) \n",
    "index = pc.Index('series')\n",
    "# Cargar modelo de embeddings\n",
    "model = SentenceTransformer('all-MiniLM-L6-v2')  # Modelo ligero para generar embeddings\n",
    "\n",
    "embeddings = model.encode(df['embedding'].tolist())\n",
    "\n",
    "# Insertar embeddings en Pinecone\n",
    "for i, embedding in enumerate(embeddings):\n",
    "    index.upsert([(df['IMDb ID'][i], embedding.tolist())]) # Almacena el vector en Pinecone con el ID del libro\n",
    "print(\"Vectores cargados en Pinecone.\")"
   ]
  }
 ],
 "metadata": {
  "kernelspec": {
   "display_name": "env_finalp",
   "language": "python",
   "name": "python3"
  },
  "language_info": {
   "codemirror_mode": {
    "name": "ipython",
    "version": 3
   },
   "file_extension": ".py",
   "mimetype": "text/x-python",
   "name": "python",
   "nbconvert_exporter": "python",
   "pygments_lexer": "ipython3",
   "version": "3.11.10"
  }
 },
 "nbformat": 4,
 "nbformat_minor": 2
}
