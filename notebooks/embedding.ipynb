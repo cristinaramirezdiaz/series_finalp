{
 "cells": [
  {
   "cell_type": "code",
   "execution_count": 1,
   "metadata": {},
   "outputs": [
    {
     "name": "stderr",
     "output_type": "stream",
     "text": [
      "/opt/anaconda3/envs/env_finalp/lib/python3.11/site-packages/sentence_transformers/cross_encoder/CrossEncoder.py:13: TqdmExperimentalWarning: Using `tqdm.autonotebook.tqdm` in notebook mode. Use `tqdm.tqdm` instead to force console mode (e.g. in jupyter console)\n",
      "  from tqdm.autonotebook import tqdm, trange\n"
     ]
    },
    {
     "name": "stdout",
     "output_type": "stream",
     "text": [
      "Vectores cargados en Pinecone.\n"
     ]
    }
   ],
   "source": [
    "import pandas as pd\n",
    "from sentence_transformers import SentenceTransformer\n",
    "from pinecone import Pinecone\n",
    "\n",
    "\n",
    "\n",
    "# Cargar el DataFrame\n",
    "df = pd.read_csv(\"../data/clean_data/series.csv\")  # Reemplaza con la ruta a tu archivo CSV\n",
    "# Crea una instancia de Pinecone\n",
    "pc = Pinecone(api_key='2c3b8e05-b4f8-4c38-82f1-6e41ac7fbcd1')  # Reemplaza con tu clave de API\n",
    "index = pc.Index('series')\n",
    "# Cargar modelo de embeddings\n",
    "model = SentenceTransformer('all-MiniLM-L6-v2')  # Modelo ligero para generar embeddings\n",
    "\n",
    "embeddings = model.encode(df['embedding'].tolist())\n",
    "\n",
    "# Insertar embeddings en Pinecone\n",
    "for i, embedding in enumerate(embeddings):\n",
    "    index.upsert([(df['IMDb ID'][i], embedding.tolist())]) # Almacena el vector en Pinecone con el ID del libro\n",
    "print(\"Vectores cargados en Pinecone.\")"
   ]
  }
 ],
 "metadata": {
  "kernelspec": {
   "display_name": "env_finalp",
   "language": "python",
   "name": "python3"
  },
  "language_info": {
   "codemirror_mode": {
    "name": "ipython",
    "version": 3
   },
   "file_extension": ".py",
   "mimetype": "text/x-python",
   "name": "python",
   "nbconvert_exporter": "python",
   "pygments_lexer": "ipython3",
   "version": "3.11.10"
  }
 },
 "nbformat": 4,
 "nbformat_minor": 2
}
